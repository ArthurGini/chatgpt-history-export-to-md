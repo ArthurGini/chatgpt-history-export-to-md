{
 "cells": [
  {
   "cell_type": "markdown",
   "metadata": {},
   "source": [
    "## Testing Playground\n",
    "\n",
    "You've probably noticed this project lacks a unit testing set-up. Honestly, I found unit testing tricky for this and felt visual inspections of outputs, like markdowns or visualizations, were generally more trustworthy.\n",
    "\n",
    "But I get the worry of accidentally breaking things when contributing code. So, I made this notebook to help with that. It's a work in progress, aimed at letting you easily see specific outputs of interest for smoother development.\n",
    "\n",
    "Previously, my basic testing meant using a `test.py` file to generate a few markdowns and then checking them manually. Or, for a deeper look, I'd run the `cli.py` and wait a while to see everything, which isn't quick on my laptop.\n",
    "\n",
    "This notebook aims to streamline that process, letting you test and inspect targeted parts of the output without the fear of breaking things.\n",
    "\n",
    "**Before you begin, it's recommended that you put the `conversations.json` file close by, like in a `./data/` folder.**\n",
    "\n",
    "**Make sure to restart the kernel and clear all outputs before committing changes, to ensure personal data isn't accidentally included.**"
   ]
  },
  {
   "cell_type": "code",
   "execution_count": null,
   "metadata": {},
   "outputs": [],
   "source": [
    "\"\"\"Playground for testing and debugging.\"\"\"\n",
    "\n",
    "from __future__ import annotations\n",
    "\n",
    "from pathlib import Path\n",
    "from typing import TYPE_CHECKING, Callable\n",
    "\n",
    "from convoviz.models import ConversationSet\n",
    "\n",
    "if TYPE_CHECKING:\n",
    "    from convoviz.models import Conversation\n",
    "\n",
    "conversations_path = Path(\"data\") / \"conversations.json\"  # adjust path if needed\n",
    "output_path = Path(\"output\")\n",
    "Path(\"output\").mkdir(exist_ok=True)\n",
    "\n",
    "collection: ConversationSet = ConversationSet.from_json(conversations_path)"
   ]
  },
  {
   "cell_type": "code",
   "execution_count": null,
   "metadata": {},
   "outputs": [],
   "source": [
    "def clear_output() -> None:\n",
    "    \"\"\"Clear output folder.\"\"\"\n",
    "    for file in output_path.glob(\"*\"):\n",
    "        file.unlink()"
   ]
  },
  {
   "cell_type": "code",
   "execution_count": null,
   "metadata": {},
   "outputs": [],
   "source": [
    "clear_output()  # run this whenever you want to clear the output folder"
   ]
  },
  {
   "cell_type": "markdown",
   "metadata": {},
   "source": [
    "## Markdown"
   ]
  },
  {
   "cell_type": "code",
   "execution_count": null,
   "metadata": {},
   "outputs": [],
   "source": [
    "# Utility function to get statistics and print conversations based on a criteria\n",
    "def get_top_convos(\n",
    "    attr_func: Callable[[Conversation], int],\n",
    "    description: str,\n",
    "    count: int = 5,\n",
    ") -> None:\n",
    "    \"\"\"Get statistics and save top conversations based on a criteria.\"\"\"\n",
    "    stats = [attr_func(c) for c in collection.array]\n",
    "    avg_stat = sum(stats) / len(stats)\n",
    "    median_stat = sorted(stats)[len(stats) // 2]\n",
    "    max_stat = max(stats)\n",
    "\n",
    "    print(\n",
    "        f\"Average {description}: {avg_stat}\\n\"\n",
    "        f\"Median {description}: {median_stat}\\n\"\n",
    "        f\"Max {description}: {max_stat}\\n\",\n",
    "    )\n",
    "\n",
    "    convos_sorted_by_attr = sorted(\n",
    "        collection.array,\n",
    "        key=attr_func,\n",
    "        reverse=True,\n",
    "    )\n",
    "\n",
    "    for convo in convos_sorted_by_attr[:count]:\n",
    "        print(\n",
    "            f\"id: {convo.conversation_id}\\n\"\n",
    "            f\"title: {convo.title}\\n\"\n",
    "            f\"{description}: {attr_func(convo)}\\n\",\n",
    "        )\n",
    "        file_path = output_path / f\"{convo.title}.md\"\n",
    "        convo.save(file_path)\n",
    "        print(f\"saved to '{file_path.resolve()}'\\n\")"
   ]
  },
  {
   "cell_type": "code",
   "execution_count": null,
   "metadata": {},
   "outputs": [],
   "source": [
    "get_top_convos(lambda c: c.leaf_count, \"leaf count\")"
   ]
  },
  {
   "cell_type": "code",
   "execution_count": null,
   "metadata": {},
   "outputs": [],
   "source": [
    "get_top_convos(lambda c: c.message_count(\"assistant\"), \"message count\")"
   ]
  },
  {
   "cell_type": "code",
   "execution_count": null,
   "metadata": {},
   "outputs": [],
   "source": [
    "get_top_convos(lambda c: len(c.content_types), \"content type count\")"
   ]
  },
  {
   "cell_type": "code",
   "execution_count": null,
   "metadata": {},
   "outputs": [],
   "source": [
    "get_top_convos(lambda c: len(c.used_plugins), \"plugin count\")"
   ]
  },
  {
   "cell_type": "markdown",
   "metadata": {},
   "source": [
    "## Data Visualization"
   ]
  },
  {
   "cell_type": "markdown",
   "metadata": {},
   "source": [
    "### Word Clouds"
   ]
  },
  {
   "cell_type": "code",
   "execution_count": null,
   "metadata": {},
   "outputs": [],
   "source": [
    "from random import choice\n",
    "\n",
    "from convoviz.utils import colormaps, font_names\n",
    "\n",
    "week_groups = collection.group_by_week()\n",
    "\n",
    "week = choice(list(week_groups.keys()))\n",
    "\n",
    "sample_conv_set = week_groups[week]\n",
    "\n",
    "font_name = choice(font_names())\n",
    "\n",
    "font_path = f\"convoviz/assets/fonts/{font_name}.ttf\"\n",
    "\n",
    "colormap = choice(colormaps())\n",
    "\n",
    "\n",
    "img = sample_conv_set.wordcloud(font_path=font_path, colormap=colormap)\n",
    "\n",
    "print(f\"font: {font_name}\\ncolormap: {colormap}\\n\")\n",
    "\n",
    "img.show()"
   ]
  },
  {
   "cell_type": "markdown",
   "metadata": {},
   "source": [
    "### Graphs"
   ]
  },
  {
   "cell_type": "code",
   "execution_count": null,
   "metadata": {},
   "outputs": [],
   "source": [
    "fig = sample_conv_set.week_barplot(\"Prompts per day\")"
   ]
  }
 ],
 "metadata": {
  "kernelspec": {
   "display_name": ".venv",
   "language": "python",
   "name": "python3"
  },
  "language_info": {
   "codemirror_mode": {
    "name": "ipython",
    "version": 3
   },
   "file_extension": ".py",
   "mimetype": "text/x-python",
   "name": "python",
   "nbconvert_exporter": "python",
   "pygments_lexer": "ipython3",
   "version": "3.10.5"
  }
 },
 "nbformat": 4,
 "nbformat_minor": 2
}
