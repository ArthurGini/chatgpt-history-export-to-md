{
 "cells": [
  {
   "cell_type": "markdown",
   "metadata": {},
   "source": [
    "## Testing Playground\n",
    "\n",
    "You've probably noticed this project lacks a unit testing set-up. Honestly, I found unit testing tricky for this and felt visual inspections of outputs, like markdowns or visualizations, were generally more trustworthy.\n",
    "\n",
    "But I get the worry of accidentally breaking things when contributing code. So, I made this notebook to help with that. It's a work in progress, aimed at letting you easily see specific outputs of interest for smoother development.\n",
    "\n",
    "Previously, my basic testing meant using a `test.py` file to generate a few markdowns and then checking them manually. Or, for a deeper look, I'd run the `main.py` and wait a while to see everything, which isn't quick on my laptop.\n",
    "\n",
    "This notebook aims to streamline that process, letting you test and inspect targeted parts of the output without the fear of breaking things."
   ]
  },
  {
   "cell_type": "markdown",
   "metadata": {},
   "source": [
    "**Before you begin, it's recommended that you put the `conversations.json` file close by, like in a `./data/` folder.**"
   ]
  },
  {
   "cell_type": "code",
   "execution_count": null,
   "metadata": {},
   "outputs": [],
   "source": [
    "import json\n",
    "from pathlib import Path\n",
    "from typing import Callable, List\n",
    "\n",
    "import controllers.file_system as fs\n",
    "from models.conversation import Conversation\n",
    "from models.conversation_set import ConversationSet\n",
    "\n",
    "# Paths\n",
    "conversations_path: Path = Path(\"data\") / \"conversations.json\"  # adjust path if needed\n",
    "output_path = Path(\"output\")\n",
    "output_path.mkdir(exist_ok=True)\n",
    "\n",
    "# Load conversations\n",
    "with open(file=conversations_path, mode=\"r\", encoding=\"utf-8\") as f:\n",
    "    conversations = json.load(fp=f)\n",
    "\n",
    "conversation_set = ConversationSet(conversations=conversations)"
   ]
  },
  {
   "cell_type": "code",
   "execution_count": null,
   "metadata": {},
   "outputs": [],
   "source": [
    "def clear_output() -> None:\n",
    "    \"\"\"Clear output folder\"\"\"\n",
    "    for file in output_path.glob(pattern=\"*\"):\n",
    "        file.unlink()"
   ]
  },
  {
   "cell_type": "code",
   "execution_count": null,
   "metadata": {},
   "outputs": [],
   "source": [
    "clear_output()  # run this whenever you want to clear the output folder"
   ]
  },
  {
   "cell_type": "markdown",
   "metadata": {},
   "source": [
    "## Markdown"
   ]
  },
  {
   "cell_type": "code",
   "execution_count": null,
   "metadata": {},
   "outputs": [],
   "source": [
    "# function type\n",
    "AttrFunc = Callable[[Conversation], int]\n",
    "\n",
    "\n",
    "# Utility function to get statistics and print conversations based on a criteria\n",
    "def get_top_convos(attr_func: AttrFunc, description: str, count: int = 5) -> None:\n",
    "    \"\"\"Get statistics and save top conversations based on a criteria\"\"\"\n",
    "\n",
    "    stats: List[int] = [attr_func(c) for c in conversation_set.conversation_list]\n",
    "    avg_stat: float = sum(stats) / len(stats)\n",
    "    median_stat: int = sorted(stats)[len(stats) // 2]\n",
    "    max_stat: int = max(stats)\n",
    "\n",
    "    print(\n",
    "        f\"Average {description}: {avg_stat}\\n\"\n",
    "        f\"Median {description}: {median_stat}\\n\"\n",
    "        f\"Max {description}: {max_stat}\\n\"\n",
    "    )\n",
    "\n",
    "    convos_sorted_by_attr: list[Conversation] = sorted(\n",
    "        conversation_set.conversation_list, key=attr_func, reverse=True\n",
    "    )\n",
    "\n",
    "    for convo in convos_sorted_by_attr[:count]:\n",
    "        print(\n",
    "            f\"id: {convo.id}\\n\"\n",
    "            f\"title: {convo.title}\\n\"\n",
    "            f\"{description}: {attr_func(convo)}\\n\"\n",
    "        )\n",
    "        file_path: Path = output_path / f\"{convo.sanitized_title()}.md\"\n",
    "        fs.save_conversation_to_file(conversation=convo, filepath=file_path)\n",
    "        print(f\"saved to '{file_path.resolve()}'\\n\")"
   ]
  },
  {
   "cell_type": "code",
   "execution_count": null,
   "metadata": {},
   "outputs": [],
   "source": [
    "get_top_convos(attr_func=lambda c: c.leaf_count(), description=\"leaf count\")"
   ]
  },
  {
   "cell_type": "code",
   "execution_count": null,
   "metadata": {},
   "outputs": [],
   "source": [
    "get_top_convos(attr_func=lambda c: c.message_count(), description=\"message count\")"
   ]
  },
  {
   "cell_type": "code",
   "execution_count": null,
   "metadata": {},
   "outputs": [],
   "source": [
    "get_top_convos(\n",
    "    attr_func=lambda c: len(c.content_types()), description=\"content type count\"\n",
    ")"
   ]
  },
  {
   "cell_type": "code",
   "execution_count": null,
   "metadata": {},
   "outputs": [],
   "source": [
    "get_top_convos(attr_func=lambda c: len(c.used_plugins()), description=\"plugin count\")"
   ]
  },
  {
   "cell_type": "markdown",
   "metadata": {},
   "source": [
    "## Data Visualization"
   ]
  },
  {
   "cell_type": "markdown",
   "metadata": {},
   "source": [
    "### Word Clouds"
   ]
  },
  {
   "cell_type": "code",
   "execution_count": null,
   "metadata": {},
   "outputs": [],
   "source": [
    "from datetime import datetime\n",
    "from random import choice\n",
    "\n",
    "from utils.utils import get_colormap_names, get_font_names\n",
    "\n",
    "weeks_dict: dict[datetime, ConversationSet] = conversation_set.grouped_by_week()\n",
    "\n",
    "week: datetime = choice(seq=list(weeks_dict.keys()))\n",
    "\n",
    "sample_conv_set: ConversationSet = weeks_dict[week]\n",
    "\n",
    "font_name: str = choice(seq=get_font_names())\n",
    "\n",
    "font_path: str = f\"assets/fonts/{font_name}.ttf\"\n",
    "\n",
    "colormap: str = choice(seq=get_colormap_names())\n",
    "\n",
    "\n",
    "fs.save_wordcloud_from_conversation_set(\n",
    "    conv_set=sample_conv_set,\n",
    "    dir_path=output_path,\n",
    "    time_period=(week, \"week\"),\n",
    "    font_path=font_path,\n",
    "    colormap=colormap,\n",
    ")\n",
    "\n",
    "print(\n",
    "    f\"font: {font_name}\\n\"\n",
    "    f\"colormap: {colormap}\\n\"\n",
    "    f\"week: {week.strftime('%Y week %W')}\\n\"\n",
    "    f\"saved to '{output_path.resolve()}'\\n\"\n",
    ")"
   ]
  },
  {
   "cell_type": "markdown",
   "metadata": {},
   "source": [
    "### Graphs"
   ]
  },
  {
   "cell_type": "code",
   "execution_count": null,
   "metadata": {},
   "outputs": [],
   "source": [
    "import random\n",
    "import time\n",
    "from collections import defaultdict\n",
    "from datetime import datetime, timedelta\n",
    "\n",
    "import matplotlib.pyplot as plt\n",
    "\n",
    "\n",
    "def generate_random_timestamps(start_date: str, num_days: int) -> list[float]:\n",
    "    \"\"\"\n",
    "    Generates a list of random timestamps starting from the given date and spanning the specified number of days.\n",
    "\n",
    "    Parameters:\n",
    "    - start_date: Starting date in the format 'YYYY-MM-DD'.\n",
    "    - num_days: Number of days to span.\n",
    "\n",
    "    Returns:\n",
    "    List of timestamps as floats.\n",
    "    \"\"\"\n",
    "\n",
    "    current_date: datetime = datetime.strptime(start_date, \"%Y-%m-%d\")\n",
    "    end_date: datetime = current_date + timedelta(days=num_days)\n",
    "\n",
    "    timestamps: list[float] = []\n",
    "\n",
    "    while current_date < end_date:\n",
    "        # Generate a random number of timestamps for this day (e.g., between 1 to 10)\n",
    "        for _ in range(random.randint(a=1, b=10)):\n",
    "            # Generate a random second of the day (0 to 86399, which is 24*60*60 - 1)\n",
    "            random_second: int = random.randint(a=0, b=86399)\n",
    "            random_time: datetime = current_date + timedelta(seconds=random_second)\n",
    "            timestamps.append(time.mktime(random_time.timetuple()))\n",
    "        current_date += timedelta(days=1)\n",
    "\n",
    "    return timestamps\n",
    "\n",
    "\n",
    "def create_weekwise_timeseries_graph(timestamps: list[float]) -> None:\n",
    "    \"\"\"\n",
    "    Creates a week-wise timeseries graph from a list of timestamps.\n",
    "\n",
    "    Parameters:\n",
    "    - timestamps: List of timestamps as floats.\n",
    "\n",
    "    Returns:\n",
    "    None. Displays the plot.\n",
    "    \"\"\"\n",
    "\n",
    "    dates: list[datetime] = [datetime.fromtimestamp(ts) for ts in timestamps]\n",
    "\n",
    "    weekday_counts: defaultdict[str, int] = defaultdict(int)\n",
    "    days: list[str] = [\n",
    "        \"Monday\",\n",
    "        \"Tuesday\",\n",
    "        \"Wednesday\",\n",
    "        \"Thursday\",\n",
    "        \"Friday\",\n",
    "        \"Saturday\",\n",
    "        \"Sunday\",\n",
    "    ]\n",
    "\n",
    "    for date in dates:\n",
    "        weekday_counts[days[date.weekday()]] += 1\n",
    "\n",
    "    x: list[str] = days\n",
    "    y: list[int] = [weekday_counts[day] for day in days]\n",
    "\n",
    "    plt.bar(x=x, height=y)  # type: ignore\n",
    "    plt.xlabel(xlabel=\"Day of the Week\")  # type: ignore\n",
    "    plt.ylabel(ylabel=\"Frequency\")  # type: ignore\n",
    "    plt.title(label=\"Week-wise Frequency of Timestamps\")  # type: ignore\n",
    "    plt.xticks(rotation=45)  # type: ignore\n",
    "    plt.tight_layout()  # type: ignore\n",
    "    plt.show()  # type: ignore\n",
    "\n",
    "\n",
    "timestamps: list[float] = generate_random_timestamps(\n",
    "    start_date=\"2023-01-01\", num_days=60\n",
    ")\n",
    "\n",
    "\n",
    "create_weekwise_timeseries_graph(timestamps=timestamps)"
   ]
  },
  {
   "cell_type": "code",
   "execution_count": null,
   "metadata": {},
   "outputs": [],
   "source": [
    "def create_monthwise_timeseries_graph(timestamps: list[float]) -> None:\n",
    "    \"\"\"\n",
    "    Creates a month-wise timeseries graph from a list of timestamps.\n",
    "\n",
    "    Parameters:\n",
    "    - timestamps: List of timestamps as floats.\n",
    "\n",
    "    Returns:\n",
    "    None. Displays the plot.\n",
    "    \"\"\"\n",
    "\n",
    "    dates: list[datetime] = [datetime.fromtimestamp(ts) for ts in timestamps]\n",
    "\n",
    "    month_counts: defaultdict[str, int] = defaultdict(int)\n",
    "    months: list[str] = [\n",
    "        \"January\",\n",
    "        \"February\",\n",
    "        \"March\",\n",
    "        \"April\",\n",
    "        \"May\",\n",
    "        \"June\",\n",
    "        \"July\",\n",
    "        \"August\",\n",
    "        \"September\",\n",
    "        \"October\",\n",
    "        \"November\",\n",
    "        \"December\",\n",
    "    ]\n",
    "\n",
    "    for date in dates:\n",
    "        month_counts[months[date.month - 1]] += 1\n",
    "\n",
    "    x: list[str] = months\n",
    "    y: list[int] = [month_counts[month] for month in months]\n",
    "\n",
    "    plt.bar(x=x, height=y)  # type: ignore\n",
    "    plt.xlabel(xlabel=\"Month\")  # type: ignore\n",
    "    plt.ylabel(ylabel=\"Frequency\")  # type: ignore\n",
    "    plt.title(label=\"Month-wise Frequency of Timestamps\")  # type: ignore\n",
    "    plt.xticks(rotation=45)  # type: ignore\n",
    "    plt.tight_layout()  # type: ignore\n",
    "    plt.show()  # type: ignore\n",
    "\n",
    "\n",
    "timestamps: list[float] = generate_random_timestamps(\n",
    "    start_date=\"2023-01-01\", num_days=365\n",
    ")\n",
    "\n",
    "create_monthwise_timeseries_graph(timestamps=timestamps)"
   ]
  }
 ],
 "metadata": {
  "kernelspec": {
   "display_name": ".venv",
   "language": "python",
   "name": "python3"
  },
  "language_info": {
   "codemirror_mode": {
    "name": "ipython",
    "version": 3
   },
   "file_extension": ".py",
   "mimetype": "text/x-python",
   "name": "python",
   "nbconvert_exporter": "python",
   "pygments_lexer": "ipython3",
   "version": "3.10.0"
  }
 },
 "nbformat": 4,
 "nbformat_minor": 2
}
