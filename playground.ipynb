{
 "cells": [
  {
   "cell_type": "markdown",
   "metadata": {},
   "source": [
    "## Testing Playground\n",
    "\n",
    "You've probably noticed this project lacks a unit testing set-up. Honestly, I found unit testing tricky for this and felt visual inspections of outputs, like markdowns or visualizations, were generally more trustworthy.\n",
    "\n",
    "But I get the worry of accidentally breaking things when contributing code. So, I made this notebook to help with that. It's a work in progress, aimed at letting you easily see specific outputs of interest for smoother development.\n",
    "\n",
    "Previously, my basic testing meant using a `test.py` file to generate a few markdowns and then checking them manually. Or, for a deeper look, I'd run the `main.py` and wait a while to see everything, which isn't quick on my laptop.\n",
    "\n",
    "This notebook aims to streamline that process, letting you test and inspect targeted parts of the output without the fear of breaking things."
   ]
  },
  {
   "cell_type": "markdown",
   "metadata": {},
   "source": [
    "**Before you begin, it's recommended that you put the `conversations.json` file close by, like in a `./data/` folder.**"
   ]
  },
  {
   "cell_type": "markdown",
   "metadata": {},
   "source": [
    "#### Examples ..."
   ]
  },
  {
   "cell_type": "code",
   "execution_count": null,
   "metadata": {},
   "outputs": [],
   "source": [
    "import json\n",
    "from pathlib import Path\n",
    "from typing import Callable, List\n",
    "\n",
    "import controllers.file_system as fs_module\n",
    "from models.conversation import Conversation\n",
    "from models.conversation_set import ConversationSet\n",
    "\n",
    "# function type\n",
    "AttrFunc = Callable[[Conversation], int]\n",
    "\n",
    "# Paths\n",
    "conversations_path = Path(\"data\") / \"conversations.json\"  # adjust path if needed\n",
    "output_path = Path(\"output\")\n",
    "output_path.mkdir(exist_ok=True)\n",
    "\n",
    "# Load conversations\n",
    "with open(conversations_path, \"r\", encoding=\"utf-8\") as f:\n",
    "    conversations = json.load(f)\n",
    "\n",
    "conversation_set = ConversationSet(conversations)\n",
    "\n",
    "\n",
    "def clear_output():\n",
    "    \"\"\"Clear output folder\"\"\"\n",
    "    for file in output_path.glob(\"*\"):\n",
    "        file.unlink()\n",
    "\n",
    "\n",
    "# Utility function to get statistics and print conversations based on a criteria\n",
    "def get_top_convos(attr_func: AttrFunc, description: str, count: int = 5):\n",
    "    \"\"\"Get statistics and save top conversations based on a criteria\"\"\"\n",
    "\n",
    "    stats: List[int] = [attr_func(c) for c in conversation_set.conversation_list]\n",
    "    avg_stat = sum(stats) / len(stats)\n",
    "    median_stat = sorted(stats)[len(stats) // 2]\n",
    "    max_stat = max(stats)\n",
    "\n",
    "    print(\n",
    "        f\"Average {description}: {avg_stat}\\n\"\n",
    "        f\"Median {description}: {median_stat}\\n\"\n",
    "        f\"Max {description}: {max_stat}\\n\"\n",
    "    )\n",
    "\n",
    "    convos_sorted_by_attr = sorted(\n",
    "        conversation_set.conversation_list, key=attr_func, reverse=True\n",
    "    )\n",
    "\n",
    "    for convo in convos_sorted_by_attr[:count]:\n",
    "        print(\n",
    "            f\"id: {convo.id}\\n\"\n",
    "            f\"title: {convo.title}\\n\"\n",
    "            f\"{description}: {attr_func(convo)}\\n\"\n",
    "        )\n",
    "        file_path = output_path / f\"{convo.file_name()}.md\"\n",
    "        fs_module.save_conversation_to_file(convo, file_path)\n",
    "        print(f\"saved to '{file_path.resolve()}'\\n\")"
   ]
  },
  {
   "cell_type": "code",
   "execution_count": null,
   "metadata": {},
   "outputs": [],
   "source": [
    "clear_output()"
   ]
  },
  {
   "cell_type": "code",
   "execution_count": null,
   "metadata": {},
   "outputs": [],
   "source": [
    "get_top_convos(lambda c: c.leaf_count(), \"leaf count\")"
   ]
  },
  {
   "cell_type": "code",
   "execution_count": null,
   "metadata": {},
   "outputs": [],
   "source": [
    "get_top_convos(lambda c: c.message_count(), \"message count\")"
   ]
  },
  {
   "cell_type": "code",
   "execution_count": null,
   "metadata": {},
   "outputs": [],
   "source": [
    "get_top_convos(lambda c: len(c.content_types()), \"content type count\")"
   ]
  },
  {
   "cell_type": "code",
   "execution_count": null,
   "metadata": {},
   "outputs": [],
   "source": [
    "get_top_convos(lambda c: len(c.used_plugins()), \"plugin count\")"
   ]
  }
 ],
 "metadata": {
  "kernelspec": {
   "display_name": ".venv",
   "language": "python",
   "name": "python3"
  },
  "language_info": {
   "codemirror_mode": {
    "name": "ipython",
    "version": 3
   },
   "file_extension": ".py",
   "mimetype": "text/x-python",
   "name": "python",
   "nbconvert_exporter": "python",
   "pygments_lexer": "ipython3",
   "version": "3.11.5"
  }
 },
 "nbformat": 4,
 "nbformat_minor": 2
}
